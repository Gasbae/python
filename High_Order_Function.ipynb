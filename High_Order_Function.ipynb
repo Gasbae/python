{
  "nbformat": 4,
  "nbformat_minor": 0,
  "metadata": {
    "colab": {
      "provenance": [],
      "name": "High Order Function.ipynb",
      "authorship_tag": "ABX9TyNB8yfXNil2RgnHg4G3XKcT",
      "include_colab_link": true
    },
    "kernelspec": {
      "name": "python3",
      "display_name": "Python 3"
    },
    "language_info": {
      "name": "python"
    }
  },
  "cells": [
    {
      "cell_type": "markdown",
      "metadata": {
        "id": "view-in-github",
        "colab_type": "text"
      },
      "source": [
        "<a href=\"https://colab.research.google.com/github/Gasbae/python/blob/main/High_Order_Function.ipynb\" target=\"_parent\"><img src=\"https://colab.research.google.com/assets/colab-badge.svg\" alt=\"Open In Colab\"/></a>"
      ]
    },
    {
      "cell_type": "code",
      "execution_count": null,
      "metadata": {
        "colab": {
          "base_uri": "https://localhost:8080/"
        },
        "id": "GZciVUfPf5q6",
        "outputId": "82f41edd-513e-45bd-8469-1d07f1a4d12f"
      },
      "outputs": [
        {
          "output_type": "stream",
          "name": "stdout",
          "text": [
            "Nilai Max : 5\n",
            "NIlai Max : 10\n",
            "Maximum is: [15, 300, 2700, 821]\n",
            " \n",
            "Maximum is: 267\n",
            "Maximum is: 821\n"
          ]
        }
      ],
      "source": [
        "#max and min\n",
        "#using max (arg1, arg2, *args)\n",
        "print('Nilai Max :', max(1,3,2,5,4))\n",
        "\n",
        "#using max(iterable)\n",
        "data_angka = [1,3,2,8,5,10,6]\n",
        "print('NIlai Max :', max(data_angka))\n",
        "\n",
        "num = [15, 300, 2700, 821]\n",
        "num1 = [12, 2]\n",
        "num2 = [34, 567, 78]\n",
        "print('Maximum is:', max(num, num1, num2, key=len))\n",
        "\n",
        "print(\" \")\n",
        "\n",
        "#with function\n",
        "def sumDigit(num):\n",
        "  sum = 0\n",
        "  while(num):\n",
        "    sum += num % 10\n",
        "    num = int(num / 10)\n",
        "  return sum\n",
        "\n",
        "print('Maximum is:', max(100, 321, 267, 59, 40, key=sumDigit))\n",
        "num = [15, 300, 2700, 821, 52, 10, 6]\n",
        "print('Maximum is:', max(num, key=sumDigit))"
      ]
    },
    {
      "cell_type": "code",
      "source": [
        "# using min(arg1, arg2, *args)\n",
        "print('Nilai Min :', min(1, 3, 2, 5, 4))\n",
        "\n",
        "# using min(iterable)\n",
        "data_angka= [3, 2, 8, 5, 10, 6]\n",
        "print('Nilai Min :', min(data_angka))\n",
        "\n",
        "num = [15, 300, 2700, 821]\n",
        "num1 = [12, 2]\n",
        "num1 = [12, 2]\n",
        "print('Minimum is:', min(num, num1, num2, key=len))\n",
        "\n",
        "print(\" \")\n",
        "\n",
        "#with function\n",
        "def sumDigit(num):\n",
        "  sum = 0\n",
        "  while(num):\n",
        "    sum += num % 10\n",
        "    num = int(num / 10)\n",
        "  return sum\n",
        "\n",
        "print('Minimum is:', min(100, 321, 267, 59, 40, key=sumDigit))\n",
        "num = [15, 300, 2700, 821, 52, 10, 6]\n",
        "print('Minimum is:', min(num, key=sumDigit))"
      ],
      "metadata": {
        "colab": {
          "base_uri": "https://localhost:8080/"
        },
        "id": "UiU6wLkbiUWS",
        "outputId": "474ff216-4bb5-4c34-80a4-1066edd084f3"
      },
      "execution_count": null,
      "outputs": [
        {
          "output_type": "stream",
          "name": "stdout",
          "text": [
            "Nilai Min : 1\n",
            "Nilai Min : 2\n",
            "Minimum is: [12, 2]\n",
            " \n",
            "Minimum is: 100\n",
            "Minimum is: 10\n"
          ]
        }
      ]
    },
    {
      "cell_type": "code",
      "source": [
        "#different of lambda and fuction\n",
        "#function\n",
        "def kuadrat(x):\n",
        "  return x**2\n",
        "\n",
        "def z(x, y, z):\n",
        "  return x + y + z\n",
        "\n",
        "print(kuadrat(3))\n",
        "f(2, 30, 400)\n",
        "\n",
        "#function is a statement\n",
        "#function is a block of statement"
      ],
      "metadata": {
        "colab": {
          "base_uri": "https://localhost:8080/"
        },
        "id": "RrFkZBVEjbhi",
        "outputId": "ae5667f8-270e-4437-8357-38fa0ba74a5f"
      },
      "execution_count": null,
      "outputs": [
        {
          "output_type": "stream",
          "name": "stdout",
          "text": [
            "9\n"
          ]
        },
        {
          "output_type": "execute_result",
          "data": {
            "text/plain": [
              "432"
            ]
          },
          "metadata": {},
          "execution_count": 81
        }
      ]
    },
    {
      "cell_type": "code",
      "source": [
        "#lambda\n",
        "kuadrat = lambda x: x*x\n",
        "kali = lambda x, y: x*y\n",
        "f = lambda x, y, z: x + y + z\n",
        "\n",
        "print(kuadrat(3))\n",
        "print(kali(4,3))\n",
        "f(2, 30, 400)\n",
        "\n",
        "#lambda is an expression, not a statement\n",
        "#lambda's body is a single expression, a block of statements"
      ],
      "metadata": {
        "colab": {
          "base_uri": "https://localhost:8080/"
        },
        "id": "ph0Fq7KblnEz",
        "outputId": "aa26a61e-ae8c-490c-eaa0-b3253e27f3bf"
      },
      "execution_count": null,
      "outputs": [
        {
          "output_type": "stream",
          "name": "stdout",
          "text": [
            "9\n",
            "12\n"
          ]
        },
        {
          "output_type": "execute_result",
          "data": {
            "text/plain": [
              "432"
            ]
          },
          "metadata": {},
          "execution_count": 80
        }
      ]
    },
    {
      "cell_type": "code",
      "source": [
        "#map\n",
        "\"\"\"\n",
        "Fungsi map() berfungsi untuk mengaplikasikan satu fungsi ke semua \n",
        "anggota dari iterable (list, tuple, dan lain – lain) dan mengembalikan \n",
        "hasilnya berupa objek map.\n",
        "Objek map ini bisa dengan mudah diubah menjadi list baru yang anggotanya \n",
        "berupa hasil pemrosesan dari fungsi dengan menggunakan fungsi \n",
        "list(), tuple(), maupun set().\n",
        "\"\"\"\n",
        "\n",
        "nilai = [1, 2, 3, 4, 5]\n",
        "pangkat = []\n",
        "for x in nilai:\n",
        "  pangkat.append (x ** 2)\n",
        "\n",
        "pangkat"
      ],
      "metadata": {
        "colab": {
          "base_uri": "https://localhost:8080/"
        },
        "id": "apDfcBr9lRzc",
        "outputId": "c44c8ec1-1e64-490b-ae4d-c4e1c56a7209"
      },
      "execution_count": null,
      "outputs": [
        {
          "output_type": "execute_result",
          "data": {
            "text/plain": [
              "[1, 4, 9, 16, 25]"
            ]
          },
          "metadata": {},
          "execution_count": 79
        }
      ]
    },
    {
      "cell_type": "code",
      "source": [
        "nilai = [1, 2, 3, 4, 5]\n",
        "def pangkat(x) : return x ** 2\n",
        "list(map(pangkat, nilai))"
      ],
      "metadata": {
        "colab": {
          "base_uri": "https://localhost:8080/"
        },
        "id": "WSxlWiornNi8",
        "outputId": "1ca81085-153e-4584-f556-ed565b969dec"
      },
      "execution_count": null,
      "outputs": [
        {
          "output_type": "execute_result",
          "data": {
            "text/plain": [
              "[1, 4, 9, 16, 25]"
            ]
          },
          "metadata": {},
          "execution_count": 78
        }
      ]
    },
    {
      "cell_type": "code",
      "source": [
        "my_list = [1, 5, 4, 6, 8, 11, 3, 12]\n",
        "new_list = list(map(lambda x: x * 2 , my_list))\n",
        "print(new_list)"
      ],
      "metadata": {
        "colab": {
          "base_uri": "https://localhost:8080/"
        },
        "id": "-V00N9FRnRNz",
        "outputId": "2d0da3b5-65f7-4472-8495-519a562faca8"
      },
      "execution_count": null,
      "outputs": [
        {
          "output_type": "stream",
          "name": "stdout",
          "text": [
            "[2, 10, 8, 12, 16, 22, 6, 24]\n"
          ]
        }
      ]
    },
    {
      "cell_type": "code",
      "source": [
        "#filter()\n",
        "\"\"\"\n",
        "Fungsi filter() berfungsi menyaring anggota–anggota dari iterable \n",
        "menggunakan sebuah fungsi untuk menguji tiap anggota dari iterable \n",
        "tersebut.\n",
        "Hasilnya adalah iterable baru yang anggotanya berasal dari iterable\n",
        "yang lama yang bernilai True saat pengujian.\n",
        "\"\"\"\n",
        "\n",
        "alfabet = ['a', 'b', 'c', 'e', 'i', 'k', 'o', 'z']\n",
        "def filter_vocal(alfabet):\n",
        "  vocal = ['a', 'i', 'u', 'e', 'o']\n",
        "  if alfabet in vocal:\n",
        "    return True\n",
        "  else:\n",
        "    return False\n",
        "\n",
        "vocal_terfilter = filter(filter_vocal, alfabet)\n",
        "print('Huruf vocal yang tersaring adalah:')\n",
        "\n",
        "#function\n",
        "for vocal in vocal_terfilter:\n",
        "  print(vocal)\n",
        "\n",
        "print(\" \")\n",
        "\n",
        "my_list = [1, 5, 4, 6, 8, 11, 3, 12]\n",
        "new_list = list(filter(lambda x: (x%2 == 0) ,my_list))\n",
        "print(new_list)"
      ],
      "metadata": {
        "colab": {
          "base_uri": "https://localhost:8080/"
        },
        "id": "knyZcsnInWIv",
        "outputId": "4dde9631-1dab-4d07-fab0-77ca418bcada"
      },
      "execution_count": null,
      "outputs": [
        {
          "output_type": "stream",
          "name": "stdout",
          "text": [
            "Huruf vocal yang tersaring adalah:\n",
            "a\n",
            "e\n",
            "i\n",
            "o\n",
            " \n",
            "[4, 6, 8, 12]\n"
          ]
        }
      ]
    },
    {
      "cell_type": "code",
      "source": [
        "#sorted()\n",
        "\"\"\"\n",
        "Fungsi sorted() berfungsi untuk mengurutkan suatu iterable baik secara\n",
        "naik maupun turun.\n",
        "\"\"\"\n",
        "\n",
        "pyList = ['e', 'a', 'u', 'o', 'i']\n",
        "print (sorted(pyList))\n",
        "print(\" \")\n",
        "\n",
        "pyString = 'Python'\n",
        "print(sorted(pyString))\n",
        "print(\" \")\n",
        "\n",
        "pyTuple = ('e', 'a', 'u', 'o', 'i')\n",
        "print(sorted(pyTuple))\n",
        "print(\" \")\n",
        "\n",
        "data_set ={'e', 'a', 'u', 'o', 'i'}\n",
        "print(sorted(data_set, reverse=True))\n",
        "print(\" \")\n",
        "\n",
        "data_dict = {'e': 1, 'a': 2, 'u': 3, 'o': 4, 'i': 5}\n",
        "print(sorted(data_dict, reverse=True))\n",
        "print(\" \")\n",
        "\n",
        "#function\n",
        "def takeSecond(elem):\n",
        "  return elem[1]\n",
        "\n",
        "random = [(2, 2), (3, 4), (4, 1), (1, 3)]\n",
        "sortedList = sorted(random, key=takeSecond)\n",
        "print('Sorted list:', sortedList)\n"
      ],
      "metadata": {
        "colab": {
          "base_uri": "https://localhost:8080/"
        },
        "id": "rBF6Y-IypPJS",
        "outputId": "fa1f30e7-690a-4314-cc33-dff9911053ca"
      },
      "execution_count": null,
      "outputs": [
        {
          "output_type": "stream",
          "name": "stdout",
          "text": [
            "['a', 'e', 'i', 'o', 'u']\n",
            " \n",
            "['P', 'h', 'n', 'o', 't', 'y']\n",
            " \n",
            "['a', 'e', 'i', 'o', 'u']\n",
            " \n",
            "['u', 'o', 'i', 'e', 'a']\n",
            " \n",
            "['u', 'o', 'i', 'e', 'a']\n",
            " \n",
            "Sorted list: [(4, 1), (2, 2), (1, 3), (3, 4)]\n"
          ]
        }
      ]
    }
  ]
}